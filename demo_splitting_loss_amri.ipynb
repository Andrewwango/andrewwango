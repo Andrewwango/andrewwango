{
 "cells": [
  {
   "cell_type": "markdown",
   "metadata": {},
   "source": [
    "# Self-supervised learning with measurement splitting\n",
    "\n",
    "We demonstrate self-supervised learning with measurement splitting, to train a denoiser network on the MNIST dataset. The physics here is noiseless undersampled MRI."
   ]
  },
  {
   "cell_type": "code",
   "execution_count": 1,
   "metadata": {},
   "outputs": [
    {
     "name": "stderr",
     "output_type": "stream",
     "text": [
      "c:\\Users\\s2558406\\Documents\\Repos\\deepinv\\venv\\lib\\site-packages\\tqdm\\auto.py:21: TqdmWarning: IProgress not found. Please update jupyter and ipywidgets. See https://ipywidgets.readthedocs.io/en/stable/user_install.html\n",
      "  from .autonotebook import tqdm as notebook_tqdm\n"
     ]
    }
   ],
   "source": [
    "import deepinv as dinv\n",
    "from torch.utils.data import DataLoader\n",
    "import torch\n",
    "from torchvision import transforms, datasets\n",
    "from deepinv.models.utils import get_weights_url\n",
    "from deepinv.physics.generator import GaussianMaskGenerator\n",
    "from numpy.random import default_rng"
   ]
  },
  {
   "cell_type": "code",
   "execution_count": 2,
   "metadata": {},
   "outputs": [],
   "source": [
    "torch.manual_seed(0)\n",
    "device = dinv.utils.get_freer_gpu() if torch.cuda.is_available() else \"cpu\""
   ]
  },
  {
   "cell_type": "markdown",
   "metadata": {},
   "source": [
    "### Define loss"
   ]
  },
  {
   "cell_type": "code",
   "execution_count": 3,
   "metadata": {},
   "outputs": [],
   "source": [
    "loss = dinv.loss.SplittingLoss(split_ratio=0.6, eval_split_input=True, eval_n_samples=5)"
   ]
  },
  {
   "cell_type": "markdown",
   "metadata": {},
   "source": [
    "### Prepare data"
   ]
  },
  {
   "cell_type": "code",
   "execution_count": 4,
   "metadata": {},
   "outputs": [],
   "source": [
    "transform = transforms.Compose([transforms.ToTensor(), lambda x: torch.cat([x] * 2)])\n",
    "\n",
    "train_dataset = datasets.MNIST(\n",
    "    root=\".\", train=True, transform=transform, download=True\n",
    ")\n",
    "test_dataset = datasets.MNIST(\n",
    "    root=\".\", train=False, transform=transform, download=True\n",
    ")"
   ]
  },
  {
   "cell_type": "code",
   "execution_count": 5,
   "metadata": {},
   "outputs": [
    {
     "name": "stdout",
     "output_type": "stream",
     "text": [
      "Dataset has been saved in MNIST\n"
     ]
    }
   ],
   "source": [
    "physics = dinv.physics.MRI(\n",
    "    mask=GaussianMaskGenerator((2, 28, 28), acceleration=4, rng=default_rng(0)).step()[\"mask\"],\n",
    "    device=device\n",
    ")\n",
    "\n",
    "deepinv_datasets_path = dinv.datasets.generate_dataset(\n",
    "    train_dataset=train_dataset,\n",
    "    test_dataset=test_dataset,\n",
    "    physics=physics,\n",
    "    device=device,\n",
    "    save_dir=\"MNIST\",\n",
    "    train_datapoints=1000,#100\n",
    "    test_datapoints=10,\n",
    ")\n",
    "\n",
    "train_dataset = dinv.datasets.HDF5Dataset(path=deepinv_datasets_path, train=True)\n",
    "test_dataset = dinv.datasets.HDF5Dataset(path=deepinv_datasets_path, train=False)\n",
    "\n",
    "train_dataloader = DataLoader(train_dataset, shuffle=True)\n",
    "test_dataloader = DataLoader(test_dataset,  shuffle=False)"
   ]
  },
  {
   "cell_type": "code",
   "execution_count": 6,
   "metadata": {},
   "outputs": [
    {
     "name": "stdout",
     "output_type": "stream",
     "text": [
      "tensor(1.) tensor(2.5846)\n"
     ]
    }
   ],
   "source": [
    "x, y = next(iter(test_dataloader))\n",
    "print(x.max(), y.max())"
   ]
  },
  {
   "cell_type": "code",
   "execution_count": 7,
   "metadata": {},
   "outputs": [
    {
     "data": {
      "image/png": "[encoded data removed]",
      "text/plain": [
       "<Figure size 600x200 with 3 Axes>"
      ]
     },
     "metadata": {},
     "output_type": "display_data"
    }
   ],
   "source": [
    "dinv.utils.plot([x, y, physics.A_adjoint(y)])"
   ]
  },
  {
   "cell_type": "markdown",
   "metadata": {},
   "source": [
    "### Define model\n",
    "\n",
    "We use a simple U-Net architecture with 2 scales as the denoiser network. "
   ]
  },
  {
   "cell_type": "code",
   "execution_count": 8,
   "metadata": {},
   "outputs": [],
   "source": [
    "model = dinv.models.ArtifactRemoval(\n",
    "    dinv.models.UNet(in_channels=2, out_channels=2, scales=2).to(device)\n",
    ")\n",
    "model = loss.adapt_model(model)\n",
    "\n",
    "optimizer = torch.optim.Adam(model.parameters(), lr=1e-3, weight_decay=1e-8)\n",
    "\n",
    "# Load pretrained model\n",
    "# file_name = \"demo_measplit_mnist_tomography.pth\"\n",
    "# url = get_weights_url(model_name=\"measplit\", file_name=file_name)\n",
    "# ckpt = torch.hub.load_state_dict_from_url(\n",
    "#     url, map_location=lambda storage, loc: storage, file_name=file_name\n",
    "# )\n",
    "\n",
    "# model.load_state_dict(ckpt[\"state_dict\"])\n",
    "# optimizer.load_state_dict(ckpt[\"optimizer\"])"
   ]
  },
  {
   "cell_type": "markdown",
   "metadata": {},
   "source": [
    "## Train and test network"
   ]
  },
  {
   "cell_type": "code",
   "execution_count": 9,
   "metadata": {},
   "outputs": [
    {
     "name": "stdout",
     "output_type": "stream",
     "text": [
      "The model has 445378 trainable parameters\n",
      "Train epoch 0: TotalLoss=0.052, PSNR=11.962\n",
      "Train epoch 1: TotalLoss=0.029, PSNR=12.593\n",
      "Train epoch 2: TotalLoss=0.024, PSNR=12.697\n",
      "Train epoch 3: TotalLoss=0.02, PSNR=12.912\n",
      "Train epoch 4: TotalLoss=0.019, PSNR=13.057\n",
      "Train epoch 5: TotalLoss=0.018, PSNR=13.029\n",
      "Train epoch 6: TotalLoss=0.017, PSNR=13.17\n",
      "Train epoch 7: TotalLoss=0.015, PSNR=13.207\n",
      "Train epoch 8: TotalLoss=0.014, PSNR=13.245\n",
      "Train epoch 9: TotalLoss=0.015, PSNR=13.316\n",
      "Train epoch 10: TotalLoss=0.013, PSNR=13.334\n",
      "Train epoch 11: TotalLoss=0.013, PSNR=13.371\n",
      "Train epoch 12: TotalLoss=0.012, PSNR=13.448\n",
      "Train epoch 13: TotalLoss=0.013, PSNR=13.38\n",
      "Train epoch 14: TotalLoss=0.012, PSNR=13.527\n",
      "Train epoch 15: TotalLoss=0.011, PSNR=13.559\n",
      "Train epoch 16: TotalLoss=0.012, PSNR=13.477\n",
      "Train epoch 17: TotalLoss=0.011, PSNR=13.589\n",
      "Train epoch 18: TotalLoss=0.01, PSNR=13.65\n",
      "Train epoch 19: TotalLoss=0.01, PSNR=13.709\n"
     ]
    }
   ],
   "source": [
    "trainer = dinv.Trainer(\n",
    "    model=model,\n",
    "    physics=physics,\n",
    "    epochs=20,#3\n",
    "    losses=loss,\n",
    "    optimizer=optimizer,\n",
    "    device=device,\n",
    "    train_dataloader=train_dataloader,\n",
    "    plot_images=False,\n",
    "    save_path=None,\n",
    "    verbose=True,\n",
    "    show_progress_bar=False,\n",
    "    wandb_vis=False,\n",
    "    rescale_mode=\"min_max\",\n",
    ")\n",
    "\n",
    "model = trainer.train()"
   ]
  },
  {
   "cell_type": "code",
   "execution_count": 10,
   "metadata": {},
   "outputs": [],
   "source": [
    "torch.save({\"state_dict\": model.state_dict(), \"optimizer\": optimizer.state_dict()}, \"demo_measplit_mnist_amri.pth\")"
   ]
  },
  {
   "cell_type": "markdown",
   "metadata": {},
   "source": [
    "Test"
   ]
  },
  {
   "cell_type": "code",
   "execution_count": 11,
   "metadata": {},
   "outputs": [
    {
     "name": "stdout",
     "output_type": "stream",
     "text": [
      "The model has 445378 trainable parameters\n",
      "Eval epoch 0: PSNR=16.108, PSNR no learning=13.999\n"
     ]
    },
    {
     "data": {
      "image/png": "[encoded data removed]",
      "text/plain": [
       "<Figure size 800x200 with 4 Axes>"
      ]
     },
     "metadata": {},
     "output_type": "display_data"
    },
    {
     "name": "stdout",
     "output_type": "stream",
     "text": [
      "Test results:\n",
      "PSNR no learning: 13.999 +- 1.112\n",
      "PSNR: 16.108 +- 2.293\n"
     ]
    },
    {
     "data": {
      "text/plain": [
       "{'PSNR no learning': 13.99926462173462,\n",
       " 'PSNR no learning_std': 1.1116921880018424,\n",
       " 'PSNR': 16.108364486694335,\n",
       " 'PSNR_std': 2.293143492454918}"
      ]
     },
     "execution_count": 11,
     "metadata": {},
     "output_type": "execute_result"
    }
   ],
   "source": [
    "trainer.plot_images = True\n",
    "trainer.test(test_dataloader)"
   ]
  },
  {
   "cell_type": "markdown",
   "metadata": {},
   "source": [
    "Demonstrate the effect of not averaging over multiple realisations of the splitting mask at evaluation time, by setting `eval_n_samples=1`. We have a worse performance:"
   ]
  },
  {
   "cell_type": "code",
   "execution_count": 12,
   "metadata": {},
   "outputs": [
    {
     "name": "stdout",
     "output_type": "stream",
     "text": [
      "The model has 445378 trainable parameters\n",
      "Eval epoch 0: PSNR=14.354, PSNR no learning=13.999\n"
     ]
    },
    {
     "data": {
      "image/png": "[encoded data removed]",
      "text/plain": [
       "<Figure size 800x200 with 4 Axes>"
      ]
     },
     "metadata": {},
     "output_type": "display_data"
    },
    {
     "name": "stdout",
     "output_type": "stream",
     "text": [
      "Test results:\n",
      "PSNR no learning: 13.999 +- 1.112\n",
      "PSNR: 14.354 +- 2.984\n"
     ]
    },
    {
     "data": {
      "text/plain": [
       "{'PSNR no learning': 13.99926462173462,\n",
       " 'PSNR no learning_std': 1.1116921880018424,\n",
       " 'PSNR': 14.353833389282226,\n",
       " 'PSNR_std': 2.9838297099206}"
      ]
     },
     "execution_count": 12,
     "metadata": {},
     "output_type": "execute_result"
    }
   ],
   "source": [
    "model.eval_n_samples = 1\n",
    "trainer.test(test_dataloader)"
   ]
  },
  {
   "cell_type": "markdown",
   "metadata": {},
   "source": [
    "Furthermore, we can disable measurement splitting at evaluation altogether by setting `eval_split_input` to False (this is done in [SSDU](https://pubmed.ncbi.nlm.nih.gov/32614100/)). This generally is worse than MC averaging:"
   ]
  },
  {
   "cell_type": "code",
   "execution_count": 13,
   "metadata": {},
   "outputs": [
    {
     "name": "stdout",
     "output_type": "stream",
     "text": [
      "The model has 445378 trainable parameters\n",
      "Eval epoch 0: PSNR=11.126, PSNR no learning=13.999\n"
     ]
    },
    {
     "data": {
      "image/png": "[encoded data removed]",
      "text/plain": [
       "<Figure size 800x200 with 4 Axes>"
      ]
     },
     "metadata": {},
     "output_type": "display_data"
    },
    {
     "name": "stdout",
     "output_type": "stream",
     "text": [
      "Test results:\n",
      "PSNR no learning: 13.999 +- 1.112\n",
      "PSNR: 11.126 +- 2.130\n"
     ]
    },
    {
     "data": {
      "text/plain": [
       "{'PSNR no learning': 13.99926462173462,\n",
       " 'PSNR no learning_std': 1.1116921880018424,\n",
       " 'PSNR': 11.126238059997558,\n",
       " 'PSNR_std': 2.12953882578676}"
      ]
     },
     "execution_count": 13,
     "metadata": {},
     "output_type": "execute_result"
    }
   ],
   "source": [
    "model.eval_split_input = False\n",
    "trainer.test(test_dataloader)"
   ]
  },
  {
   "cell_type": "code",
   "execution_count": null,
   "metadata": {},
   "outputs": [],
   "source": []
  }
 ],
 "metadata": {
  "kernelspec": {
   "display_name": "Python 3 (ipykernel)",
   "language": "python",
   "name": "python3"
  },
  "language_info": {
   "codemirror_mode": {
    "name": "ipython",
    "version": 3
   },
   "file_extension": ".py",
   "mimetype": "text/x-python",
   "name": "python",
   "nbconvert_exporter": "python",
   "pygments_lexer": "ipython3",
   "version": "3.10.11"
  }
 },
 "nbformat": 4,
 "nbformat_minor": 4
}
