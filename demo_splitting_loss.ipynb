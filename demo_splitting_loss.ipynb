{
 "cells": [
  {
   "cell_type": "markdown",
   "metadata": {},
   "source": [
    "# Self-supervised learning with measurement splitting\n",
    "\n",
    "We demonstrate self-supervised learning with measurement splitting, to train a denoiser network on the MNIST dataset.\n",
    "\n",
    "Measurement splitting constructs a ground-truth free loss $\\frac{m}{m_2}\\| y_2 - A_2 \\inversef{y_1}{A_1}\\|^2$ by splitting the measurement and the forward operator using a randomly generated mask.\n",
    "\n",
    "See :class:`deepinv.loss.SplittingLoss` for full details."
   ]
  },
  {
   "cell_type": "code",
   "execution_count": 1,
   "metadata": {},
   "outputs": [
    {
     "name": "stderr",
     "output_type": "stream",
     "text": [
      "C:\\Users\\s2558406\\Documents\\Repos\\deepinv\\venv\\Lib\\site-packages\\tqdm\\auto.py:21: TqdmWarning: IProgress not found. Please update jupyter and ipywidgets. See https://ipywidgets.readthedocs.io/en/stable/user_install.html\n",
      "  from .autonotebook import tqdm as notebook_tqdm\n"
     ]
    }
   ],
   "source": [
    "import deepinv as dinv\n",
    "from torch.utils.data import DataLoader\n",
    "import torch\n",
    "from torchvision import transforms, datasets\n",
    "from deepinv.models.utils import get_weights_url"
   ]
  },
  {
   "cell_type": "code",
   "execution_count": 2,
   "metadata": {},
   "outputs": [],
   "source": [
    "torch.manual_seed(0)\n",
    "device = dinv.utils.get_freer_gpu() if torch.cuda.is_available() else \"cpu\""
   ]
  },
  {
   "cell_type": "markdown",
   "metadata": {},
   "source": [
    "### Define loss\n",
    "\n",
    "Our implementation has multiple optional parameters that control how the splitting is to be achieved. For example, you can:\n",
    "\n",
    "- Use `split_ratio` to set the ratio of pixels used in the forward pass vs the loss;\n",
    "- Define custom masking methods using a `mask_generator` such as :class:`deepinv.physics.generator.BernoulliSplittingMaskGenerator`;\n",
    "- Use `MC_samples` to set how many realisations of the random mask is used at evaluation time;\n",
    "- Average over both input and output masks at evaluation time using `eval_split_output`."
   ]
  },
  {
   "cell_type": "code",
   "execution_count": 3,
   "metadata": {},
   "outputs": [],
   "source": [
    "loss = dinv.loss.SplittingLoss(split_ratio=0.6, eval_split_output=True)"
   ]
  },
  {
   "cell_type": "markdown",
   "metadata": {},
   "source": [
    "### Prepare data\n",
    "\n",
    "We use the `torchvision` MNIST dataset, and use Poisson noise physics for the forward operator.\n",
    "\n",
    ".. note::\n",
    "\n",
    "      We use a subset of the whole training set to reduce the computational load of the example.\n",
    "      We recommend to use the whole set by setting ``train_datapoints=test_datapoints=None`` to get the best results.\n"
   ]
  },
  {
   "cell_type": "code",
   "execution_count": 4,
   "metadata": {},
   "outputs": [],
   "source": [
    "transform = transforms.Compose([transforms.ToTensor()])\n",
    "\n",
    "train_dataset = datasets.MNIST(\n",
    "    root=\".\", train=True, transform=transform, download=True\n",
    ")\n",
    "test_dataset = datasets.MNIST(\n",
    "    root=\".\", train=False, transform=transform, download=True\n",
    ")"
   ]
  },
  {
   "cell_type": "code",
   "execution_count": 5,
   "metadata": {},
   "outputs": [
    {
     "name": "stdout",
     "output_type": "stream",
     "text": [
      "Dataset has been saved in MNIST\n"
     ]
    }
   ],
   "source": [
    "physics = dinv.physics.Denoising(dinv.physics.PoissonNoise(0.1))\n",
    "\n",
    "deepinv_datasets_path = dinv.datasets.generate_dataset(\n",
    "    train_dataset=train_dataset,\n",
    "    test_dataset=test_dataset,\n",
    "    physics=physics,\n",
    "    device=device,\n",
    "    save_dir=\"MNIST\",\n",
    "    train_datapoints=100,\n",
    "    test_datapoints=10,\n",
    ")\n",
    "\n",
    "train_dataset = dinv.datasets.HDF5Dataset(path=deepinv_datasets_path, train=True)\n",
    "test_dataset = dinv.datasets.HDF5Dataset(path=deepinv_datasets_path, train=False)\n",
    "\n",
    "train_dataloader = DataLoader(train_dataset, shuffle=True)\n",
    "test_dataloader = DataLoader(test_dataset,  shuffle=False)"
   ]
  },
  {
   "cell_type": "markdown",
   "metadata": {},
   "source": [
    "### Define model\n",
    "\n",
    "We use a simple U-Net architecture with 2 scales as the denoiser network. \n",
    "\n",
    "To reduce training time, we use a pretrained model. Here we demonstrate training with 100 images for 1 epoch, after having loaded a pretrained model trained that was with 1000 images for 100 epochs.\n",
    "\n",
    ".. note::\n",
    "\n",
    "      When using the splitting loss, the model must be \"adapted\" by the loss, as its forward pass takes only a subset of the pixels, not the full image."
   ]
  },
  {
   "cell_type": "code",
   "execution_count": 6,
   "metadata": {},
   "outputs": [],
   "source": [
    "model = dinv.models.ArtifactRemoval(\n",
    "    dinv.models.UNet(in_channels=1, out_channels=1, scales=2).to(device)\n",
    ")\n",
    "model = loss.adapt_model(model, MC_samples=5)\n",
    "\n",
    "optimizer = torch.optim.Adam(model.parameters(), lr=1e-3, weight_decay=1e-8)\n",
    "\n",
    "# Load pretrained model\n",
    "file_name = \"demo_measplit_mnist_denoising.pth\"\n",
    "url = get_weights_url(model_name=\"measplit\", file_name=file_name)\n",
    "ckpt = torch.hub.load_state_dict_from_url(\n",
    "    url, map_location=lambda storage, loc: storage, file_name=file_name\n",
    ")\n",
    "\n",
    "model.load_state_dict(ckpt[\"state_dict\"])\n",
    "optimizer.load_state_dict(ckpt[\"optimizer\"])"
   ]
  },
  {
   "cell_type": "markdown",
   "metadata": {},
   "source": [
    "## Train and test network"
   ]
  },
  {
   "cell_type": "code",
   "execution_count": 7,
   "metadata": {},
   "outputs": [
    {
     "name": "stdout",
     "output_type": "stream",
     "text": [
      "The model has 444737 trainable parameters\n",
      "Train epoch 0: TotalLoss=0.017, PSNR=11.59\n"
     ]
    }
   ],
   "source": [
    "trainer = dinv.Trainer(\n",
    "    model=model,\n",
    "    physics=physics,\n",
    "    epochs=1,\n",
    "    losses=loss,\n",
    "    optimizer=optimizer,\n",
    "    device=device,\n",
    "    train_dataloader=train_dataloader,\n",
    "    plot_images=False,\n",
    "    save_path=None,\n",
    "    verbose=True,\n",
    "    show_progress_bar=False,\n",
    "    wandb_vis=False,\n",
    ")\n",
    "\n",
    "model = trainer.train()"
   ]
  },
  {
   "cell_type": "markdown",
   "metadata": {},
   "source": [
    "Test and visualise the model outputs using a small test set. We set the output to average over 50 iterations of random mask realisations. The trained model improves on the no-learning reconstruction by ~3dB."
   ]
  },
  {
   "cell_type": "code",
   "execution_count": 8,
   "metadata": {},
   "outputs": [
    {
     "data": {
      "image/png": "[encoded data removed]",
      "text/plain": [
       "<Figure size 800x200 with 4 Axes>"
      ]
     },
     "metadata": {},
     "output_type": "display_data"
    },
    {
     "name": "stdout",
     "output_type": "stream",
     "text": [
      "Test PSNR: No learning rec.: 19.356+-1.523 | Model: 23.150+-1.996. \n"
     ]
    },
    {
     "data": {
      "text/plain": [
       "(23.150262069702148,\n",
       " 1.9961603806415074,\n",
       " 19.355849266052246,\n",
       " 1.5233685706910973)"
      ]
     },
     "execution_count": 8,
     "metadata": {},
     "output_type": "execute_result"
    }
   ],
   "source": [
    "trainer.plot_images = True\n",
    "model.MC_samples = 50\n",
    "trainer.test(test_dataloader)"
   ]
  },
  {
   "cell_type": "markdown",
   "metadata": {},
   "source": [
    "Since this is a denoising example, above, we have set `eval_split_output` to True (see :class:`deepinv.loss.SplittingLoss` for details). Alternatively, we get worse results when we set `eval_split_output` to False:"
   ]
  },
  {
   "cell_type": "code",
   "execution_count": 9,
   "metadata": {},
   "outputs": [
    {
     "data": {
      "image/png": "[encoded data removed]",
      "text/plain": [
       "<Figure size 800x200 with 4 Axes>"
      ]
     },
     "metadata": {},
     "output_type": "display_data"
    },
    {
     "name": "stdout",
     "output_type": "stream",
     "text": [
      "Test PSNR: No learning rec.: 19.356+-1.523 | Model: 14.441+-1.520. \n"
     ]
    },
    {
     "data": {
      "text/plain": [
       "(14.44115686416626, 1.5199918435073472, 19.355849266052246, 1.5233685706910973)"
      ]
     },
     "execution_count": 9,
     "metadata": {},
     "output_type": "execute_result"
    }
   ],
   "source": [
    "model.eval_split_output = False\n",
    "trainer.test(test_dataloader)"
   ]
  },
  {
   "cell_type": "code",
   "execution_count": null,
   "metadata": {},
   "outputs": [],
   "source": []
  }
 ],
 "metadata": {
  "kernelspec": {
   "display_name": "Python 3 (ipykernel)",
   "language": "python",
   "name": "python3"
  },
  "language_info": {
   "codemirror_mode": {
    "name": "ipython",
    "version": 3
   },
   "file_extension": ".py",
   "mimetype": "text/x-python",
   "name": "python",
   "nbconvert_exporter": "python",
   "pygments_lexer": "ipython3",
   "version": "3.11.5"
  }
 },
 "nbformat": 4,
 "nbformat_minor": 4
}
